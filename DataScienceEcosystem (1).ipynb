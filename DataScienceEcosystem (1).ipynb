{
 "cells": [
  {
   "cell_type": "markdown",
   "id": "b5fa7dc6-145e-401d-8717-542ecf97e829",
   "metadata": {},
   "source": [
    "<h1>Data Science Tools and Ecosystem</h1>"
   ]
  },
  {
   "cell_type": "markdown",
   "id": "b7f888ea-9462-4a18-bcfb-27416482ad7a",
   "metadata": {},
   "source": [
    "In this notebook, Data Science Tools and Ecosystem are summarized."
   ]
  },
  {
   "cell_type": "markdown",
   "id": "ddbda51b-65ab-49fa-9813-58ff92c99020",
   "metadata": {},
   "source": [
    "Some of the popular languages that Data Scientists use are:\n",
    "<ol>\n",
    "    <dd>1. Python<dd>\n",
    "    <dd>2. SAS</dd>\n",
    "    <dd>3. Java<dd>\n",
    "    <dd>4. JavaScript<dd>\n",
    "    <dd>5. Julia<dd>\n",
    "</ol>"
   ]
  },
  {
   "cell_type": "markdown",
   "id": "f7a924c1-4256-46b6-9b60-8faa9281ab56",
   "metadata": {
    "jupyter": {
     "source_hidden": true
    },
    "tags": []
   },
   "source": [
    "Some of the commonly used libraries used by Data Scientist include:\n",
    "<ol>\n",
    "    <dd>1. TensorFlow<dd>\n",
    "    <dd>2. Numpy</dd>\n",
    "    <dd>3. Pandas</dd>\n",
    "    <dd>4. Matplotlib<dd>\n",
    "    <dd>5. SciPy</dd>\n",
    "</ol>"
   ]
  },
  {
   "cell_type": "markdown",
   "id": "c22e5824-cd8e-419e-9442-066b46b97404",
   "metadata": {},
   "source": [
    "| Data Science Tools |\n",
    "| ------------------ |\n",
    "| Jupyter Notebook   |\n",
    "| Apache Hadoop      | \n",
    "| Anaconda           |\n"
   ]
  },
  {
   "cell_type": "markdown",
   "id": "ddcf34a2-cda2-4315-a421-1d8a229684d7",
   "metadata": {
    "jupyter": {
     "source_hidden": true
    },
    "tags": []
   },
   "source": [
    "<h3>Below are a few examples of evaluating arithmetic expressions in Python</h3>"
   ]
  },
  {
   "cell_type": "code",
   "execution_count": 8,
   "id": "51753263-3155-487e-baac-347f85750a4a",
   "metadata": {},
   "outputs": [
    {
     "data": {
      "text/plain": [
       "17"
      ]
     },
     "execution_count": 8,
     "metadata": {},
     "output_type": "execute_result"
    }
   ],
   "source": [
    "## This a simple arithmetic expression to multiply then add integers\n",
    "(3*4)+5"
   ]
  },
  {
   "cell_type": "code",
   "execution_count": 13,
   "id": "8becaa90-23e1-4410-814a-38611290174f",
   "metadata": {},
   "outputs": [
    {
     "data": {
      "text/plain": [
       "3.3333333333333335"
      ]
     },
     "execution_count": 13,
     "metadata": {},
     "output_type": "execute_result"
    }
   ],
   "source": [
    "## This will convert 200 minutes to hours by diving by 60.\n",
    "200/60"
   ]
  },
  {
   "cell_type": "markdown",
   "id": "c150370d-a074-46b3-a7b7-8c03eb241e66",
   "metadata": {},
   "source": [
    "<b>Objectives:</b>\n",
    "- Popular languages that Data Scientists use\n",
    "- Popular libraries used by Data Scientist\n",
    "- Data Science Tools\n"
   ]
  },
  {
   "cell_type": "markdown",
   "id": "b5c558cc-52d1-403a-89b1-10e02795e793",
   "metadata": {},
   "source": [
    "<h2>Author</h2>\n",
    "Babatunde, Adedoyin Victoria"
   ]
  },
  {
   "cell_type": "code",
   "execution_count": null,
   "id": "b84db6a8-fc99-430d-8f4a-7a8155a2d9b7",
   "metadata": {},
   "outputs": [],
   "source": []
  }
 ],
 "metadata": {
  "kernelspec": {
   "display_name": "Python 3 (ipykernel)",
   "language": "python",
   "name": "python3"
  },
  "language_info": {
   "codemirror_mode": {
    "name": "ipython",
    "version": 3
   },
   "file_extension": ".py",
   "mimetype": "text/x-python",
   "name": "python",
   "nbconvert_exporter": "python",
   "pygments_lexer": "ipython3",
   "version": "3.10.9"
  }
 },
 "nbformat": 4,
 "nbformat_minor": 5
}
